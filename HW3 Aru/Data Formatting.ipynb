{
 "cells": [
  {
   "cell_type": "code",
   "execution_count": 2,
   "id": "34dce6f4",
   "metadata": {},
   "outputs": [],
   "source": [
    "import pandas as pd\n",
    "\n",
    "# Load in CSV File\n",
    "file_path = \"/Users/arumehta/Desktop/DS 4200/HW3 Aru/socialMedia.csv\"\n",
    "df = pd.read_csv(file_path)\n",
    "\n",
    "# Group by Platform and PostType, and calculate average Likes\n",
    "social_media_avg = (df.groupby([\"Platform\", \"PostType\"], as_index=False)[\"Likes\"].mean().round(2))\n",
    "\n",
    "# Rename column to match desired output\n",
    "social_media_avg.rename(columns={\"Likes\": \"AvgLikes\"}, inplace=True)\n",
    "\n",
    "# Save the cleaned dataset to a new CSV file\n",
    "output_path = \"/Users/arumehta/Desktop/DS 4200/HW3 Aru/SocialMediaAvg.csv\"\n",
    "social_media_avg.to_csv(output_path, index=False)"
   ]
  },
  {
   "cell_type": "code",
   "execution_count": 4,
   "id": "03e2c6fb",
   "metadata": {},
   "outputs": [
    {
     "data": {
      "text/plain": [
       "'/Users/arumehta/Desktop/DS 4200/HW3 Aru/SocialMediaTime.csv'"
      ]
     },
     "execution_count": 4,
     "metadata": {},
     "output_type": "execute_result"
    }
   ],
   "source": [
    "import pandas as pd\n",
    "\n",
    "# Load the uploaded CSV file\n",
    "file_path = \"/Users/arumehta/Desktop/DS 4200/HW3 Aru/socialMedia.csv\"\n",
    "df = pd.read_csv(file_path)\n",
    "\n",
    "# Group by Date and calculate average Likes\n",
    "social_media_time = (\n",
    "    df.groupby(\"Date\", as_index=False)[\"Likes\"]\n",
    "    .mean()\n",
    "    .round(2)\n",
    ")\n",
    "\n",
    "# Rename column to match desired output\n",
    "social_media_time.rename(columns={\"Likes\": \"AvgLikes\"}, inplace=True)\n",
    "\n",
    "# Save the summarized data to a new CSV file\n",
    "output_path = \"/Users/arumehta/Desktop/DS 4200/HW3 Aru/SocialMediaTime.csv\"\n",
    "social_media_time.to_csv(output_path, index=False)\n",
    "\n",
    "output_path\n"
   ]
  },
  {
   "cell_type": "code",
   "execution_count": null,
   "id": "331a8df9",
   "metadata": {},
   "outputs": [],
   "source": []
  }
 ],
 "metadata": {
  "kernelspec": {
   "display_name": "Python 3 (ipykernel)",
   "language": "python",
   "name": "python3"
  },
  "language_info": {
   "codemirror_mode": {
    "name": "ipython",
    "version": 3
   },
   "file_extension": ".py",
   "mimetype": "text/x-python",
   "name": "python",
   "nbconvert_exporter": "python",
   "pygments_lexer": "ipython3",
   "version": "3.10.9"
  }
 },
 "nbformat": 4,
 "nbformat_minor": 5
}
